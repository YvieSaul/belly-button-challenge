{
 "cells": [
  {
   "cell_type": "code",
   "execution_count": 1,
   "id": "2cec4079-8267-4bc8-9f9c-0fb6db214fc1",
   "metadata": {},
   "outputs": [
    {
     "name": "stdout",
     "output_type": "stream",
     "text": [
      "Grouped data has been saved to: C:\\Users\\skylo\\Project-3-Group-6-DataV\\real_estate_folder\\Data\\state_summary.csv\n"
     ]
    }
   ],
   "source": [
    "import pandas as pd\n",
    "\n",
    "\n",
    "# Path to the input CSV file\n",
    "input_csv = r\"C:\\Users\\skylo\\Project-3-Group-6-DataV\\real_estate_folder\\Data\\cleaned_redfin_data_with_coords.csv\"\n",
    "\n",
    "# Path to save the output CSV file\n",
    "output_csv = r\"C:\\Users\\skylo\\Project-3-Group-6-DataV\\real_estate_folder\\Data\\state_summary.csv\"\n",
    "\n",
    "# Read the CSV file into a DataFrame\n",
    "try:\n",
    "    data = pd.read_csv(input_csv)\n",
    "\n",
    "    # Handle missing data (optional, depending on your dataset)\n",
    "    data['avg.list price'] = data['avg.list price'].fillna(data['avg.list price'].mean())\n",
    "    data['avg.price/sqft'] = data['avg.price/sqft'].fillna(data['avg.price/sqft'].mean())\n",
    "    data['avg.days on market'] = data['avg.days on market'].fillna(data['avg.days on market'].mean())\n",
    "\n",
    "    # Group by state and calculate the required metrics\n",
    "    grouped_data = data.groupby('state', as_index=False).agg({\n",
    "        'avg.list price': 'mean',\n",
    "        'avg.price/sqft': 'mean',\n",
    "        'avg.days on market': 'mean'\n",
    "    })\n",
    "\n",
    "    # Save the grouped data to a new CSV file\n",
    "    grouped_data.to_csv(output_csv, index=False)\n",
    "    print(f\"Grouped data has been saved to: {output_csv}\")\n",
    "\n",
    "except FileNotFoundError:\n",
    "    print(f\"Error: File not found at {input_csv}\")\n",
    "except Exception as e:\n",
    "    print(f\"An error occurred: {e}\")"
   ]
  },
  {
   "cell_type": "code",
   "execution_count": null,
   "id": "71373087-ac5b-41b3-9f66-c44bc3812ef3",
   "metadata": {},
   "outputs": [],
   "source": []
  }
 ],
 "metadata": {
  "kernelspec": {
   "display_name": "Python 3 (ipykernel)",
   "language": "python",
   "name": "python3"
  },
  "language_info": {
   "codemirror_mode": {
    "name": "ipython",
    "version": 3
   },
   "file_extension": ".py",
   "mimetype": "text/x-python",
   "name": "python",
   "nbconvert_exporter": "python",
   "pygments_lexer": "ipython3",
   "version": "3.12.4"
  }
 },
 "nbformat": 4,
 "nbformat_minor": 5
}
